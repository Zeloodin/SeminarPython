{
 "cells": [
  {
   "cell_type": "markdown",
   "id": "04bb0886",
   "metadata": {},
   "source": [
    "# Домашняя Работа !!\n",
    "# Работаем только с файлом california_housing_test.csv \n",
    "1)Прочесть с помощью pandas файл california_housing_test.csv \n",
    "\n",
    "2)Посмотреть сколько в нем строк и столбцов\n",
    "\n",
    "3)Определить какой тип данных имеют столбцы\n",
    "\n",
    "4)Показать longitude где housing_median_age < 35\n",
    "\n",
    "5)Показать столбцы longitude и latitude\n",
    "\n",
    "6)Выбрать данные где total_rooms < 2000 и population > 1500\n",
    "  \n",
    "7)Определить какое максимальное и минимальное значение **population**\n",
    "\n",
    "8)(Доп) Показать максимальное **longitude**, где **median_income** > 3\n",
    "\n",
    "9)(Доп) Узнать какая максимальная **total_bedrooms** при минимальном значении **households**\n",
    "\n",
    "\n"
   ]
  },
  {
   "cell_type": "code",
   "execution_count": 2,
   "id": "6de790e4",
   "metadata": {},
   "outputs": [],
   "source": [
    "# Библиотека для работы с табличными данными\n",
    "import pandas as pd"
   ]
  },
  {
   "cell_type": "markdown",
   "id": "4289d042",
   "metadata": {},
   "source": [
    "1)Прочесть с помощью pandas файл california_housing_test.csv"
   ]
  },
  {
   "cell_type": "code",
   "execution_count": 3,
   "id": "e465b97b",
   "metadata": {},
   "outputs": [],
   "source": [
    "# Прочтём файл .csv с помощью библиотеки pandas\n",
    "df = pd.read_csv('california_housing_test.csv')"
   ]
  },
  {
   "cell_type": "markdown",
   "id": "3c2ccc7a",
   "metadata": {},
   "source": [
    "2)Посмотреть сколько в нем строк и столбцов"
   ]
  },
  {
   "cell_type": "code",
   "execution_count": 4,
   "id": "2e43fde4",
   "metadata": {},
   "outputs": [
    {
     "data": {
      "text/plain": [
       "(3402, 9)"
      ]
     },
     "execution_count": 4,
     "metadata": {},
     "output_type": "execute_result"
    }
   ],
   "source": [
    "# Возвращает размеры таблицы: кортеж из 2 значений, 1 кол-во строк, 2 - кол-во столбцов\n",
    "df.shape"
   ]
  },
  {
   "cell_type": "markdown",
   "id": "f990caa3",
   "metadata": {},
   "source": [
    "3)Определить какой тип данных имеют столбцы"
   ]
  },
  {
   "cell_type": "code",
   "execution_count": 5,
   "id": "fc0441b7",
   "metadata": {},
   "outputs": [
    {
     "data": {
      "text/plain": [
       "Unnamed: 0              int64\n",
       "longitude             float64\n",
       "latitude              float64\n",
       "housing_median_age      int64\n",
       "total_rooms             int64\n",
       "total_bedrooms          int64\n",
       "population              int64\n",
       "households              int64\n",
       "median_income         float64\n",
       "dtype: object"
      ]
     },
     "execution_count": 5,
     "metadata": {},
     "output_type": "execute_result"
    }
   ],
   "source": [
    "# Проверить тип данных в столбцах\n",
    "# В данных случаях везде float, число 64 указывает на разрядность(Используется 64 байта для хранения значения в памяти,\n",
    "# чем меньше разрядность, тем меньший диапазон могут принимать числа и тем меньше тратится памяти на хранение.\n",
    "df.dtypes"
   ]
  },
  {
   "cell_type": "markdown",
   "id": "802e54a9",
   "metadata": {},
   "source": [
    "4)Показать longitude где housing_median_age < 35"
   ]
  },
  {
   "cell_type": "code",
   "execution_count": 6,
   "id": "156576b6",
   "metadata": {},
   "outputs": [
    {
     "data": {
      "text/html": [
       "<div>\n",
       "<style scoped>\n",
       "    .dataframe tbody tr th:only-of-type {\n",
       "        vertical-align: middle;\n",
       "    }\n",
       "\n",
       "    .dataframe tbody tr th {\n",
       "        vertical-align: top;\n",
       "    }\n",
       "\n",
       "    .dataframe thead th {\n",
       "        text-align: right;\n",
       "    }\n",
       "</style>\n",
       "<table border=\"1\" class=\"dataframe\">\n",
       "  <thead>\n",
       "    <tr style=\"text-align: right;\">\n",
       "      <th></th>\n",
       "      <th>longitude</th>\n",
       "    </tr>\n",
       "  </thead>\n",
       "  <tbody>\n",
       "    <tr>\n",
       "      <th>0</th>\n",
       "      <td>-117.66</td>\n",
       "    </tr>\n",
       "    <tr>\n",
       "      <th>1</th>\n",
       "      <td>-117.07</td>\n",
       "    </tr>\n",
       "    <tr>\n",
       "      <th>2</th>\n",
       "      <td>-117.91</td>\n",
       "    </tr>\n",
       "    <tr>\n",
       "      <th>3</th>\n",
       "      <td>-117.19</td>\n",
       "    </tr>\n",
       "    <tr>\n",
       "      <th>4</th>\n",
       "      <td>-119.58</td>\n",
       "    </tr>\n",
       "    <tr>\n",
       "      <th>...</th>\n",
       "      <td>...</td>\n",
       "    </tr>\n",
       "    <tr>\n",
       "      <th>3392</th>\n",
       "      <td>-122.10</td>\n",
       "    </tr>\n",
       "    <tr>\n",
       "      <th>3393</th>\n",
       "      <td>-117.52</td>\n",
       "    </tr>\n",
       "    <tr>\n",
       "      <th>3395</th>\n",
       "      <td>-117.01</td>\n",
       "    </tr>\n",
       "    <tr>\n",
       "      <th>3398</th>\n",
       "      <td>-117.88</td>\n",
       "    </tr>\n",
       "    <tr>\n",
       "      <th>3399</th>\n",
       "      <td>-118.32</td>\n",
       "    </tr>\n",
       "  </tbody>\n",
       "</table>\n",
       "<p>2216 rows × 1 columns</p>\n",
       "</div>"
      ],
      "text/plain": [
       "      longitude\n",
       "0       -117.66\n",
       "1       -117.07\n",
       "2       -117.91\n",
       "3       -117.19\n",
       "4       -119.58\n",
       "...         ...\n",
       "3392    -122.10\n",
       "3393    -117.52\n",
       "3395    -117.01\n",
       "3398    -117.88\n",
       "3399    -118.32\n",
       "\n",
       "[2216 rows x 1 columns]"
      ]
     },
     "execution_count": 6,
     "metadata": {},
     "output_type": "execute_result"
    }
   ],
   "source": [
    "# Выбор определенного кол-ва рядов\n",
    "# Синтаксис df[df[col] !=|==|>|<| значение]\n",
    "df.loc[df['housing_median_age'] < 35, ['longitude']]"
   ]
  },
  {
   "cell_type": "markdown",
   "id": "9b684fb9",
   "metadata": {},
   "source": [
    "5)Показать столбцы longitude и latitude"
   ]
  },
  {
   "cell_type": "code",
   "execution_count": 7,
   "id": "76a609ab",
   "metadata": {},
   "outputs": [
    {
     "data": {
      "text/html": [
       "<div>\n",
       "<style scoped>\n",
       "    .dataframe tbody tr th:only-of-type {\n",
       "        vertical-align: middle;\n",
       "    }\n",
       "\n",
       "    .dataframe tbody tr th {\n",
       "        vertical-align: top;\n",
       "    }\n",
       "\n",
       "    .dataframe thead th {\n",
       "        text-align: right;\n",
       "    }\n",
       "</style>\n",
       "<table border=\"1\" class=\"dataframe\">\n",
       "  <thead>\n",
       "    <tr style=\"text-align: right;\">\n",
       "      <th></th>\n",
       "      <th>longitude</th>\n",
       "      <th>latitude</th>\n",
       "    </tr>\n",
       "  </thead>\n",
       "  <tbody>\n",
       "    <tr>\n",
       "      <th>0</th>\n",
       "      <td>-117.66</td>\n",
       "      <td>35.60</td>\n",
       "    </tr>\n",
       "    <tr>\n",
       "      <th>1</th>\n",
       "      <td>-117.07</td>\n",
       "      <td>32.71</td>\n",
       "    </tr>\n",
       "    <tr>\n",
       "      <th>2</th>\n",
       "      <td>-117.91</td>\n",
       "      <td>33.61</td>\n",
       "    </tr>\n",
       "    <tr>\n",
       "      <th>3</th>\n",
       "      <td>-117.19</td>\n",
       "      <td>34.05</td>\n",
       "    </tr>\n",
       "    <tr>\n",
       "      <th>4</th>\n",
       "      <td>-119.58</td>\n",
       "      <td>36.83</td>\n",
       "    </tr>\n",
       "    <tr>\n",
       "      <th>...</th>\n",
       "      <td>...</td>\n",
       "      <td>...</td>\n",
       "    </tr>\n",
       "    <tr>\n",
       "      <th>3397</th>\n",
       "      <td>-118.33</td>\n",
       "      <td>34.09</td>\n",
       "    </tr>\n",
       "    <tr>\n",
       "      <th>3398</th>\n",
       "      <td>-117.88</td>\n",
       "      <td>34.09</td>\n",
       "    </tr>\n",
       "    <tr>\n",
       "      <th>3399</th>\n",
       "      <td>-118.32</td>\n",
       "      <td>34.26</td>\n",
       "    </tr>\n",
       "    <tr>\n",
       "      <th>3400</th>\n",
       "      <td>-118.12</td>\n",
       "      <td>33.80</td>\n",
       "    </tr>\n",
       "    <tr>\n",
       "      <th>3401</th>\n",
       "      <td>-118.19</td>\n",
       "      <td>33.78</td>\n",
       "    </tr>\n",
       "  </tbody>\n",
       "</table>\n",
       "<p>3402 rows × 2 columns</p>\n",
       "</div>"
      ],
      "text/plain": [
       "      longitude  latitude\n",
       "0       -117.66     35.60\n",
       "1       -117.07     32.71\n",
       "2       -117.91     33.61\n",
       "3       -117.19     34.05\n",
       "4       -119.58     36.83\n",
       "...         ...       ...\n",
       "3397    -118.33     34.09\n",
       "3398    -117.88     34.09\n",
       "3399    -118.32     34.26\n",
       "3400    -118.12     33.80\n",
       "3401    -118.19     33.78\n",
       "\n",
       "[3402 rows x 2 columns]"
      ]
     },
     "execution_count": 7,
     "metadata": {},
     "output_type": "execute_result"
    }
   ],
   "source": [
    "# Выбор нескольких столбцов [долгота, широта]\n",
    "df[['longitude', 'latitude']]"
   ]
  },
  {
   "cell_type": "markdown",
   "id": "b87844ba",
   "metadata": {},
   "source": [
    "6)Выбрать данные где total_rooms < 2000 и population > 1500"
   ]
  },
  {
   "cell_type": "code",
   "execution_count": 8,
   "id": "8fc77646",
   "metadata": {},
   "outputs": [
    {
     "data": {
      "text/html": [
       "<div>\n",
       "<style scoped>\n",
       "    .dataframe tbody tr th:only-of-type {\n",
       "        vertical-align: middle;\n",
       "    }\n",
       "\n",
       "    .dataframe tbody tr th {\n",
       "        vertical-align: top;\n",
       "    }\n",
       "\n",
       "    .dataframe thead th {\n",
       "        text-align: right;\n",
       "    }\n",
       "</style>\n",
       "<table border=\"1\" class=\"dataframe\">\n",
       "  <thead>\n",
       "    <tr style=\"text-align: right;\">\n",
       "      <th></th>\n",
       "      <th>Unnamed: 0</th>\n",
       "      <th>longitude</th>\n",
       "      <th>latitude</th>\n",
       "      <th>housing_median_age</th>\n",
       "      <th>total_rooms</th>\n",
       "      <th>total_bedrooms</th>\n",
       "      <th>population</th>\n",
       "      <th>households</th>\n",
       "      <th>median_income</th>\n",
       "    </tr>\n",
       "  </thead>\n",
       "  <tbody>\n",
       "    <tr>\n",
       "      <th>0</th>\n",
       "      <td>1</td>\n",
       "      <td>-117.66</td>\n",
       "      <td>35.60</td>\n",
       "      <td>14</td>\n",
       "      <td>1740</td>\n",
       "      <td>391</td>\n",
       "      <td>850</td>\n",
       "      <td>317</td>\n",
       "      <td>2.5812</td>\n",
       "    </tr>\n",
       "    <tr>\n",
       "      <th>2</th>\n",
       "      <td>3</td>\n",
       "      <td>-117.91</td>\n",
       "      <td>33.61</td>\n",
       "      <td>27</td>\n",
       "      <td>1797</td>\n",
       "      <td>343</td>\n",
       "      <td>435</td>\n",
       "      <td>203</td>\n",
       "      <td>5.9196</td>\n",
       "    </tr>\n",
       "    <tr>\n",
       "      <th>5</th>\n",
       "      <td>6</td>\n",
       "      <td>-120.94</td>\n",
       "      <td>37.40</td>\n",
       "      <td>32</td>\n",
       "      <td>1175</td>\n",
       "      <td>208</td>\n",
       "      <td>774</td>\n",
       "      <td>222</td>\n",
       "      <td>3.0000</td>\n",
       "    </tr>\n",
       "    <tr>\n",
       "      <th>6</th>\n",
       "      <td>7</td>\n",
       "      <td>-118.30</td>\n",
       "      <td>34.17</td>\n",
       "      <td>37</td>\n",
       "      <td>350</td>\n",
       "      <td>115</td>\n",
       "      <td>342</td>\n",
       "      <td>111</td>\n",
       "      <td>3.0687</td>\n",
       "    </tr>\n",
       "    <tr>\n",
       "      <th>7</th>\n",
       "      <td>8</td>\n",
       "      <td>-122.51</td>\n",
       "      <td>37.91</td>\n",
       "      <td>2</td>\n",
       "      <td>647</td>\n",
       "      <td>136</td>\n",
       "      <td>203</td>\n",
       "      <td>118</td>\n",
       "      <td>6.6410</td>\n",
       "    </tr>\n",
       "    <tr>\n",
       "      <th>...</th>\n",
       "      <td>...</td>\n",
       "      <td>...</td>\n",
       "      <td>...</td>\n",
       "      <td>...</td>\n",
       "      <td>...</td>\n",
       "      <td>...</td>\n",
       "      <td>...</td>\n",
       "      <td>...</td>\n",
       "      <td>...</td>\n",
       "    </tr>\n",
       "    <tr>\n",
       "      <th>3388</th>\n",
       "      <td>3389</td>\n",
       "      <td>-122.06</td>\n",
       "      <td>37.64</td>\n",
       "      <td>33</td>\n",
       "      <td>1160</td>\n",
       "      <td>252</td>\n",
       "      <td>729</td>\n",
       "      <td>220</td>\n",
       "      <td>3.8259</td>\n",
       "    </tr>\n",
       "    <tr>\n",
       "      <th>3392</th>\n",
       "      <td>3393</td>\n",
       "      <td>-122.10</td>\n",
       "      <td>37.19</td>\n",
       "      <td>18</td>\n",
       "      <td>808</td>\n",
       "      <td>136</td>\n",
       "      <td>420</td>\n",
       "      <td>145</td>\n",
       "      <td>7.1831</td>\n",
       "    </tr>\n",
       "    <tr>\n",
       "      <th>3397</th>\n",
       "      <td>3398</td>\n",
       "      <td>-118.33</td>\n",
       "      <td>34.09</td>\n",
       "      <td>36</td>\n",
       "      <td>654</td>\n",
       "      <td>186</td>\n",
       "      <td>416</td>\n",
       "      <td>138</td>\n",
       "      <td>3.6953</td>\n",
       "    </tr>\n",
       "    <tr>\n",
       "      <th>3400</th>\n",
       "      <td>3401</td>\n",
       "      <td>-118.12</td>\n",
       "      <td>33.80</td>\n",
       "      <td>35</td>\n",
       "      <td>1835</td>\n",
       "      <td>435</td>\n",
       "      <td>774</td>\n",
       "      <td>418</td>\n",
       "      <td>2.7092</td>\n",
       "    </tr>\n",
       "    <tr>\n",
       "      <th>3401</th>\n",
       "      <td>3402</td>\n",
       "      <td>-118.19</td>\n",
       "      <td>33.78</td>\n",
       "      <td>42</td>\n",
       "      <td>1021</td>\n",
       "      <td>300</td>\n",
       "      <td>533</td>\n",
       "      <td>187</td>\n",
       "      <td>1.8036</td>\n",
       "    </tr>\n",
       "  </tbody>\n",
       "</table>\n",
       "<p>1577 rows × 9 columns</p>\n",
       "</div>"
      ],
      "text/plain": [
       "      Unnamed: 0  longitude  latitude  housing_median_age  total_rooms  \\\n",
       "0              1    -117.66     35.60                  14         1740   \n",
       "2              3    -117.91     33.61                  27         1797   \n",
       "5              6    -120.94     37.40                  32         1175   \n",
       "6              7    -118.30     34.17                  37          350   \n",
       "7              8    -122.51     37.91                   2          647   \n",
       "...          ...        ...       ...                 ...          ...   \n",
       "3388        3389    -122.06     37.64                  33         1160   \n",
       "3392        3393    -122.10     37.19                  18          808   \n",
       "3397        3398    -118.33     34.09                  36          654   \n",
       "3400        3401    -118.12     33.80                  35         1835   \n",
       "3401        3402    -118.19     33.78                  42         1021   \n",
       "\n",
       "      total_bedrooms  population  households  median_income  \n",
       "0                391         850         317         2.5812  \n",
       "2                343         435         203         5.9196  \n",
       "5                208         774         222         3.0000  \n",
       "6                115         342         111         3.0687  \n",
       "7                136         203         118         6.6410  \n",
       "...              ...         ...         ...            ...  \n",
       "3388             252         729         220         3.8259  \n",
       "3392             136         420         145         7.1831  \n",
       "3397             186         416         138         3.6953  \n",
       "3400             435         774         418         2.7092  \n",
       "3401             300         533         187         1.8036  \n",
       "\n",
       "[1577 rows x 9 columns]"
      ]
     },
     "execution_count": 8,
     "metadata": {},
     "output_type": "execute_result"
    }
   ],
   "source": [
    "# Для отбора можно использовать несколько условий одновременно\n",
    "# Знак & означает 'and', а знак | 'or'\n",
    "df[(df['total_rooms'] < 2000) & (df['population'] > 00)]"
   ]
  },
  {
   "cell_type": "markdown",
   "id": "09ea0131",
   "metadata": {},
   "source": [
    "7)Определить какое максимальное и минимальное значение population"
   ]
  },
  {
   "cell_type": "code",
   "execution_count": 9,
   "id": "cfcbd5ae",
   "metadata": {},
   "outputs": [
    {
     "name": "stdout",
     "output_type": "stream",
     "text": [
      "35682\n",
      "8\n"
     ]
    }
   ],
   "source": [
    "# Максимальное значение\n",
    "print(df['population'].max())\n",
    "# Минимальное значение\n",
    "print(df['population'].min())"
   ]
  },
  {
   "cell_type": "markdown",
   "id": "5b364a34",
   "metadata": {},
   "source": [
    "8)(Доп) Показать максимальное longitude, где median_income > 3"
   ]
  },
  {
   "cell_type": "markdown",
   "id": "2274a8f3",
   "metadata": {},
   "source": [
    "---\n",
    "\n",
    "Для отбора можно использовать несколько условий одновременно\n",
    "\n",
    "Знак & означает 'and', а знак | 'or'\n",
    "\n",
    "---\n",
    "\n",
    "Выбор определенного кол-ва рядов\n",
    "\n",
    "Синтаксис df[df[col] !=|==|>|<| значение]\n",
    "\n",
    "---"
   ]
  },
  {
   "cell_type": "code",
   "execution_count": 10,
   "id": "b453f9d7",
   "metadata": {},
   "outputs": [
    {
     "data": {
      "text/plain": [
       "longitude   -115.37\n",
       "dtype: float64"
      ]
     },
     "execution_count": 10,
     "metadata": {},
     "output_type": "execute_result"
    }
   ],
   "source": [
    "df.loc[(df['median_income'] > 3), ['longitude']].max()"
   ]
  },
  {
   "cell_type": "markdown",
   "id": "51f3db7a",
   "metadata": {},
   "source": [
    "9)(Доп) Узнать какая максимальная total_bedrooms при минимальном значении households"
   ]
  },
  {
   "cell_type": "code",
   "execution_count": 11,
   "id": "40e76958",
   "metadata": {},
   "outputs": [
    {
     "data": {
      "text/plain": [
       "863.0"
      ]
     },
     "execution_count": 11,
     "metadata": {},
     "output_type": "execute_result"
    }
   ],
   "source": [
    "df.loc[(df['households'].min()), ['total_bedrooms']].max()"
   ]
  }
 ],
 "metadata": {
  "kernelspec": {
   "display_name": "Python 3.10.6 64-bit",
   "language": "python",
   "name": "python3"
  },
  "language_info": {
   "codemirror_mode": {
    "name": "ipython",
    "version": 3
   },
   "file_extension": ".py",
   "mimetype": "text/x-python",
   "name": "python",
   "nbconvert_exporter": "python",
   "pygments_lexer": "ipython3",
   "version": "3.10.6"
  },
  "vscode": {
   "interpreter": {
    "hash": "57480b31141d6fb491a53c548851f4318c7583dffafec596180dbb76a152abe6"
   }
  }
 },
 "nbformat": 4,
 "nbformat_minor": 5
}
